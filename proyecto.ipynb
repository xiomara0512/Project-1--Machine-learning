{
 "cells": [
  {
   "cell_type": "code",
   "execution_count": 2,
   "metadata": {},
   "outputs": [
    {
     "name": "stdout",
     "output_type": "stream",
     "text": [
      "Datasets en train.h5:\n",
      "['body_acc_x', 'body_acc_y', 'body_acc_z', 'body_gyro_x', 'body_gyro_y', 'body_gyro_z', 'total_acc_x', 'total_acc_y', 'total_acc_z', 'y']\n"
     ]
    }
   ],
   "source": [
    "import h5py\n",
    "\n",
    "with h5py.File(\"train.h5\", \"r\") as f_train:\n",
    "    print(\"Datasets en train.h5:\")\n",
    "    print(list(f_train.keys()))"
   ]
  },
  {
   "cell_type": "code",
   "execution_count": 4,
   "metadata": {},
   "outputs": [
    {
     "name": "stdout",
     "output_type": "stream",
     "text": [
      "Datasets en train.h5:\n",
      "['body_acc_x', 'body_acc_y', 'body_acc_z', 'body_gyro_x', 'body_gyro_y', 'body_gyro_z', 'total_acc_x', 'total_acc_y', 'total_acc_z']\n"
     ]
    }
   ],
   "source": [
    "import h5py\n",
    "\n",
    "with h5py.File(\"test.h5\", \"r\") as f_train:\n",
    "    print(\"Datasets en train.h5:\")\n",
    "    print(list(f_train.keys()))"
   ]
  },
  {
   "cell_type": "code",
   "execution_count": 3,
   "metadata": {},
   "outputs": [
    {
     "name": "stdout",
     "output_type": "stream",
     "text": [
      "X_train: (7352, 1152)\n",
      "y_train: (7352,)\n"
     ]
    },
    {
     "name": "stderr",
     "output_type": "stream",
     "text": [
      "C:\\Users\\u63055\\AppData\\Local\\Temp\\1\\ipykernel_9840\\48600414.py:8: DeprecationWarning: `product` is deprecated as of NumPy 1.25.0, and will be removed in NumPy 2.0. Please use `prod` instead.\n",
      "  np.array(f_train['body_acc_x']),\n",
      "C:\\Users\\u63055\\AppData\\Local\\Temp\\1\\ipykernel_9840\\48600414.py:9: DeprecationWarning: `product` is deprecated as of NumPy 1.25.0, and will be removed in NumPy 2.0. Please use `prod` instead.\n",
      "  np.array(f_train['body_acc_y']),\n",
      "C:\\Users\\u63055\\AppData\\Local\\Temp\\1\\ipykernel_9840\\48600414.py:10: DeprecationWarning: `product` is deprecated as of NumPy 1.25.0, and will be removed in NumPy 2.0. Please use `prod` instead.\n",
      "  np.array(f_train['body_acc_z']),\n",
      "C:\\Users\\u63055\\AppData\\Local\\Temp\\1\\ipykernel_9840\\48600414.py:11: DeprecationWarning: `product` is deprecated as of NumPy 1.25.0, and will be removed in NumPy 2.0. Please use `prod` instead.\n",
      "  np.array(f_train['body_gyro_x']),\n",
      "C:\\Users\\u63055\\AppData\\Local\\Temp\\1\\ipykernel_9840\\48600414.py:12: DeprecationWarning: `product` is deprecated as of NumPy 1.25.0, and will be removed in NumPy 2.0. Please use `prod` instead.\n",
      "  np.array(f_train['body_gyro_y']),\n",
      "C:\\Users\\u63055\\AppData\\Local\\Temp\\1\\ipykernel_9840\\48600414.py:13: DeprecationWarning: `product` is deprecated as of NumPy 1.25.0, and will be removed in NumPy 2.0. Please use `prod` instead.\n",
      "  np.array(f_train['body_gyro_z']),\n",
      "C:\\Users\\u63055\\AppData\\Local\\Temp\\1\\ipykernel_9840\\48600414.py:14: DeprecationWarning: `product` is deprecated as of NumPy 1.25.0, and will be removed in NumPy 2.0. Please use `prod` instead.\n",
      "  np.array(f_train['total_acc_x']),\n",
      "C:\\Users\\u63055\\AppData\\Local\\Temp\\1\\ipykernel_9840\\48600414.py:15: DeprecationWarning: `product` is deprecated as of NumPy 1.25.0, and will be removed in NumPy 2.0. Please use `prod` instead.\n",
      "  np.array(f_train['total_acc_y']),\n",
      "C:\\Users\\u63055\\AppData\\Local\\Temp\\1\\ipykernel_9840\\48600414.py:16: DeprecationWarning: `product` is deprecated as of NumPy 1.25.0, and will be removed in NumPy 2.0. Please use `prod` instead.\n",
      "  np.array(f_train['total_acc_z'])\n",
      "C:\\Users\\u63055\\AppData\\Local\\Temp\\1\\ipykernel_9840\\48600414.py:18: DeprecationWarning: `product` is deprecated as of NumPy 1.25.0, and will be removed in NumPy 2.0. Please use `prod` instead.\n",
      "  y_train = np.array(f_train['y'])\n"
     ]
    }
   ],
   "source": [
    "import h5py\n",
    "import numpy as np\n",
    "\n",
    "# Carga de entrenamiento\n",
    "with h5py.File(\"train.h5\", \"r\") as f_train:\n",
    "    # Combina todos los datasets de características en un solo array\n",
    "    X_train = np.hstack([\n",
    "        np.array(f_train['body_acc_x']),\n",
    "        np.array(f_train['body_acc_y']),\n",
    "        np.array(f_train['body_acc_z']),\n",
    "        np.array(f_train['body_gyro_x']),\n",
    "        np.array(f_train['body_gyro_y']),\n",
    "        np.array(f_train['body_gyro_z']),\n",
    "        np.array(f_train['total_acc_x']),\n",
    "        np.array(f_train['total_acc_y']),\n",
    "        np.array(f_train['total_acc_z'])\n",
    "    ])\n",
    "    y_train = np.array(f_train['y'])\n",
    "\n",
    "# Verifica formas\n",
    "print(\"X_train:\", X_train.shape)\n",
    "print(\"y_train:\", y_train.shape)"
   ]
  },
  {
   "cell_type": "code",
   "execution_count": 5,
   "metadata": {},
   "outputs": [
    {
     "name": "stdout",
     "output_type": "stream",
     "text": [
      "X_test: (2947, 1152)\n"
     ]
    },
    {
     "name": "stderr",
     "output_type": "stream",
     "text": [
      "C:\\Users\\u63055\\AppData\\Local\\Temp\\1\\ipykernel_9840\\3202983455.py:8: DeprecationWarning: `product` is deprecated as of NumPy 1.25.0, and will be removed in NumPy 2.0. Please use `prod` instead.\n",
      "  np.array(f_test['body_acc_x']),\n",
      "C:\\Users\\u63055\\AppData\\Local\\Temp\\1\\ipykernel_9840\\3202983455.py:9: DeprecationWarning: `product` is deprecated as of NumPy 1.25.0, and will be removed in NumPy 2.0. Please use `prod` instead.\n",
      "  np.array(f_test['body_acc_y']),\n",
      "C:\\Users\\u63055\\AppData\\Local\\Temp\\1\\ipykernel_9840\\3202983455.py:10: DeprecationWarning: `product` is deprecated as of NumPy 1.25.0, and will be removed in NumPy 2.0. Please use `prod` instead.\n",
      "  np.array(f_test['body_acc_z']),\n",
      "C:\\Users\\u63055\\AppData\\Local\\Temp\\1\\ipykernel_9840\\3202983455.py:11: DeprecationWarning: `product` is deprecated as of NumPy 1.25.0, and will be removed in NumPy 2.0. Please use `prod` instead.\n",
      "  np.array(f_test['body_gyro_x']),\n",
      "C:\\Users\\u63055\\AppData\\Local\\Temp\\1\\ipykernel_9840\\3202983455.py:12: DeprecationWarning: `product` is deprecated as of NumPy 1.25.0, and will be removed in NumPy 2.0. Please use `prod` instead.\n",
      "  np.array(f_test['body_gyro_y']),\n",
      "C:\\Users\\u63055\\AppData\\Local\\Temp\\1\\ipykernel_9840\\3202983455.py:13: DeprecationWarning: `product` is deprecated as of NumPy 1.25.0, and will be removed in NumPy 2.0. Please use `prod` instead.\n",
      "  np.array(f_test['body_gyro_z']),\n",
      "C:\\Users\\u63055\\AppData\\Local\\Temp\\1\\ipykernel_9840\\3202983455.py:14: DeprecationWarning: `product` is deprecated as of NumPy 1.25.0, and will be removed in NumPy 2.0. Please use `prod` instead.\n",
      "  np.array(f_test['total_acc_x']),\n",
      "C:\\Users\\u63055\\AppData\\Local\\Temp\\1\\ipykernel_9840\\3202983455.py:15: DeprecationWarning: `product` is deprecated as of NumPy 1.25.0, and will be removed in NumPy 2.0. Please use `prod` instead.\n",
      "  np.array(f_test['total_acc_y']),\n",
      "C:\\Users\\u63055\\AppData\\Local\\Temp\\1\\ipykernel_9840\\3202983455.py:16: DeprecationWarning: `product` is deprecated as of NumPy 1.25.0, and will be removed in NumPy 2.0. Please use `prod` instead.\n",
      "  np.array(f_test['total_acc_z'])\n"
     ]
    }
   ],
   "source": [
    "import h5py\n",
    "import numpy as np\n",
    "\n",
    "# Carga de prueba (sin etiquetas)\n",
    "with h5py.File(\"test.h5\", \"r\") as f_test:\n",
    "    # Combina todos los datasets de características en un solo array\n",
    "    X_test = np.hstack([\n",
    "        np.array(f_test['body_acc_x']),\n",
    "        np.array(f_test['body_acc_y']),\n",
    "        np.array(f_test['body_acc_z']),\n",
    "        np.array(f_test['body_gyro_x']),\n",
    "        np.array(f_test['body_gyro_y']),\n",
    "        np.array(f_test['body_gyro_z']),\n",
    "        np.array(f_test['total_acc_x']),\n",
    "        np.array(f_test['total_acc_y']),\n",
    "        np.array(f_test['total_acc_z'])\n",
    "    ])\n",
    "\n",
    "# Verifica forma\n",
    "print(\"X_test:\", X_test.shape)"
   ]
  },
  {
   "cell_type": "code",
   "execution_count": 13,
   "metadata": {},
   "outputs": [
    {
     "name": "stdout",
     "output_type": "stream",
     "text": [
      "Accuracy: 0.9347382732834806\n",
      "F1 Score: 0.9367689362495973\n",
      "Confusion Matrix:\n",
      " [[236   8   3   0   0   0]\n",
      " [  3 196   1   0   0   0]\n",
      " [ 11   1 194   0   0   0]\n",
      " [  0   0   0 228  34   0]\n",
      " [  0   1   0  34 241   0]\n",
      " [  0   0   0   0   0 280]]\n"
     ]
    },
    {
     "data": {
      "image/png": "[encoded data removed]",
      "text/plain": [
       "<Figure size 800x600 with 2 Axes>"
      ]
     },
     "metadata": {},
     "output_type": "display_data"
    }
   ],
   "source": [
    "from sklearn.model_selection import train_test_split\n",
    "from sklearn.svm import SVC\n",
    "from sklearn.metrics import classification_report, confusion_matrix\n",
    "from sklearn.metrics import accuracy_score, f1_score, confusion_matrix\n",
    "import pandas as pd\n",
    "import matplotlib.pyplot as plt\n",
    "import seaborn as sns\n",
    "\n",
    "# Divide los datos en entrenamiento y validación\n",
    "X_train_split, X_val_split, y_train_split, y_val_split = train_test_split(X_train, y_train, test_size=0.2, random_state=42)\n",
    "\n",
    "# Entrena un modelo SVM\n",
    "clf = SVC(kernel='rbf')\n",
    "clf.fit(X_train_split, y_train_split)\n",
    "\n",
    "# Evalúa el modelo\n",
    "y_pred = clf.predict(X_val_split)\n",
    "print(\"Accuracy:\", accuracy_score(y_val_split, y_pred))\n",
    "print(\"F1 Score:\", f1_score(y_val_split, y_pred, average='macro'))\n",
    "print(\"Confusion Matrix:\\n\", confusion_matrix(y_val_split, y_pred))\n",
    "\n",
    "# Visualización de la matriz de confusión\n",
    "plt.figure(figsize=(8, 6))\n",
    "sns.heatmap(confusion_matrix(y_val_split, y_pred), annot=True, fmt='d', cmap='Blues', xticklabels=[0, 1, 2, 3, 4, 5], yticklabels=[0, 1, 2, 3, 4, 5])\n",
    "plt.xlabel('Predicted')\n",
    "plt.ylabel('Actual')\n",
    "plt.title('Confusion Matrix')\n",
    "plt.show()"
   ]
  },
  {
   "cell_type": "code",
   "execution_count": null,
   "metadata": {},
   "outputs": [],
   "source": [
    "from sklearn.svm import SVC\n",
    "from sklearn.model_selection import GridSearchCV\n",
    "\n",
    "# Define el modelo SVC\n",
    "svc = SVC()\n",
    "\n",
    "# Define los parámetros para la búsqueda\n",
    "param_grid = {\n",
    "    'C': [0.1, 1, 10],\n",
    "    'kernel': ['linear', 'rbf']\n",
    "}\n",
    "\n",
    "# Configura GridSearchCV\n",
    "grid_search = GridSearchCV(estimator=svc, param_grid=param_grid, cv=5, scoring='accuracy', n_jobs=-1)\n",
    "grid_search.fit(X_train_split, y_train_split)\n",
    "\n",
    "# Imprime los mejores parámetros\n",
    "print(\"Mejores parámetros:\", grid_search.best_params_)"
   ]
  }
 ],
 "metadata": {
  "kernelspec": {
   "display_name": "_scripting310w_2025",
   "language": "python",
   "name": "python3"
  },
  "language_info": {
   "codemirror_mode": {
    "name": "ipython",
    "version": 3
   },
   "file_extension": ".py",
   "mimetype": "text/x-python",
   "name": "python",
   "nbconvert_exporter": "python",
   "pygments_lexer": "ipython3",
   "version": "3.10.8"
  }
 },
 "nbformat": 4,
 "nbformat_minor": 2
}
